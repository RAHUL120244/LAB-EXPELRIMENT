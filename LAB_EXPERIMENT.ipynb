{
  "nbformat": 4,
  "nbformat_minor": 0,
  "metadata": {
    "colab": {
      "provenance": [],
      "authorship_tag": "ABX9TyOKOqFU5L6cIymCPXpYAzkK",
      "include_colab_link": true
    },
    "kernelspec": {
      "name": "python3",
      "display_name": "Python 3"
    },
    "language_info": {
      "name": "python"
    }
  },
  "cells": [
    {
      "cell_type": "markdown",
      "metadata": {
        "id": "view-in-github",
        "colab_type": "text"
      },
      "source": [
        "<a href=\"https://colab.research.google.com/github/RAHUL120244/LAB-EXPELRIMENT/blob/main/LAB_EXPERIMENT.ipynb\" target=\"_parent\"><img src=\"https://colab.research.google.com/assets/colab-badge.svg\" alt=\"Open In Colab\"/></a>"
      ]
    },
    {
      "cell_type": "markdown",
      "source": [
        "Q.1 implimant swaping two variable without using 3rd variable."
      ],
      "metadata": {
        "id": "KqasEyjhbXde"
      }
    },
    {
      "cell_type": "code",
      "execution_count": null,
      "metadata": {
        "colab": {
          "base_uri": "https://localhost:8080/"
        },
        "id": "AZZkgKkFbJWb",
        "outputId": "fe7f0772-66fd-419e-b4e0-d2541e21b1b8"
      },
      "outputs": [
        {
          "output_type": "stream",
          "name": "stdout",
          "text": [
            "RAHUL\n",
            "sachin\n"
          ]
        }
      ],
      "source": [
        "A=\"sachin\"\n",
        "B=\"RAHUL\"\n",
        "A,B=B,A\n",
        "print(A)\n",
        "print(B)"
      ]
    },
    {
      "cell_type": "markdown",
      "source": [
        "Q.2 Create a program to compute student marks and grade .\n",
        "\n",
        "if Av>=90 give grade A\n",
        "\n",
        "  80<=av<=89 grade B\n",
        "\n",
        "  70<=Av<=79  C\n",
        "\n",
        "  60<=Av<=69  D\n",
        "\n"
      ],
      "metadata": {
        "id": "U7CteRlFcvOi"
      }
    },
    {
      "cell_type": "code",
      "source": [
        "#--->subjects marks\n",
        "marks=[86,92.5,75,88.0,91]\n",
        "if marks:\n",
        "  avarage=sum(marks)/len(marks)\n",
        "else:\n",
        "  avarage=0\n",
        "print(avarage)\n",
        "if 90<=avarage <=100:\n",
        "   print(\"A GRADE\")\n",
        "if 80<=avarage<=89 :\n",
        "   print(\"B GRADE\")\n",
        "if 70<=avarage<=79 :\n",
        "   print(\"C grade\")\n",
        "if 60<=avarage<=69:\n",
        "   print(\"D grade\");\n",
        "\n",
        "\n"
      ],
      "metadata": {
        "id": "HeLwvO2BdOSC",
        "colab": {
          "base_uri": "https://localhost:8080/"
        },
        "outputId": "7e38e98a-579b-4058-89e8-3eb0477194d4"
      },
      "execution_count": null,
      "outputs": [
        {
          "output_type": "stream",
          "name": "stdout",
          "text": [
            "86.5\n",
            "B GRADE\n"
          ]
        }
      ]
    },
    {
      "cell_type": "markdown",
      "source": [
        "Q.3 write a program to calculate the area and parameter of a ractangle given length and width."
      ],
      "metadata": {
        "id": "kxLpbT2dgwWi"
      }
    },
    {
      "cell_type": "code",
      "source": [
        "length=100 #--> in meter\n",
        "width=60 #--> in meter\n",
        "area=length*width # in meter square\n",
        "perimeter=2*(length+width) # in meter\n",
        "print(\"area is :\",area)\n",
        "print(\"perimeter is:\",perimeter)\n"
      ],
      "metadata": {
        "colab": {
          "base_uri": "https://localhost:8080/"
        },
        "id": "0-sZOhychGZe",
        "outputId": "4f3f5328-cbbe-4a8d-f30c-60656a150274"
      },
      "execution_count": null,
      "outputs": [
        {
          "output_type": "stream",
          "name": "stdout",
          "text": [
            "area is : 6000\n",
            "perimeter is: 320\n"
          ]
        }
      ]
    },
    {
      "cell_type": "markdown",
      "source": [
        "Q.4 take inpute 2 complex number and display sum ,difference and sum."
      ],
      "metadata": {
        "id": "lhmU4SAMimkL"
      }
    },
    {
      "cell_type": "code",
      "source": [
        "A=(2+5j)\n",
        "B=(2-3j)\n",
        "print(\"sum is:\",A+B)\n",
        "print(\"difference is :\",A-B)\n",
        "print(\"product is :\",A*B)"
      ],
      "metadata": {
        "colab": {
          "base_uri": "https://localhost:8080/"
        },
        "id": "Jsgs1AWHi7qJ",
        "outputId": "acacceed-c6a7-455a-af63-2bc455f88aad"
      },
      "execution_count": null,
      "outputs": [
        {
          "output_type": "stream",
          "name": "stdout",
          "text": [
            "sum is: (4+2j)\n",
            "difference is : 8j\n",
            "product is : (19+4j)\n"
          ]
        }
      ]
    },
    {
      "cell_type": "markdown",
      "source": [
        "Q.5 write a code to convert degree selcious to farenhite."
      ],
      "metadata": {
        "id": "i6k0KSQ7j8T_"
      }
    },
    {
      "cell_type": "code",
      "source": [
        "# fixed values\n",
        "celsius = 25\n",
        "fahrenheit = 77\n",
        "\n",
        "# Celsius → Fahrenheit\n",
        "f = (celsius * 9/5) + 32\n",
        "print(celsius, \"°C =\", f, \"°F\")\n",
        "\n",
        "# Fahrenheit → Celsius\n",
        "c = (fahrenheit - 32) * 5/9\n",
        "print(fahrenheit, \"°F =\", c, \"°C\")\n"
      ],
      "metadata": {
        "colab": {
          "base_uri": "https://localhost:8080/"
        },
        "id": "vd41FzGZlShK",
        "outputId": "55e81e5a-365b-4590-ae2e-a45e66800379"
      },
      "execution_count": null,
      "outputs": [
        {
          "output_type": "stream",
          "name": "stdout",
          "text": [
            "25 °C = 77.0 °F\n",
            "77 °F = 25.0 °C\n"
          ]
        }
      ]
    },
    {
      "cell_type": "markdown",
      "source": [
        "Q.6 6. In an ac circuit the total impedence z of a series RLC circuit is given by z=R+j(wL-1/wC).\n",
        "Your task is two comput:\n",
        " (i) Calculte impedence in terms of complex number.\n",
        " (ii) magnitude of impedence."
      ],
      "metadata": {
        "id": "jw6JWvC7l9Kc"
      }
    },
    {
      "cell_type": "code",
      "source": [
        "import math\n",
        "import cmath\n",
        "R=100\n",
        "L=0.5\n",
        "C=100e-6\n",
        "f=50\n",
        "w=2*math.pi*f\n",
        "Z=R+(w*L-(1/w*C))*1j\n",
        "print(\"impedence is\",Z)\n",
        "print(\"magnitute is:\",abs(Z))"
      ],
      "metadata": {
        "colab": {
          "base_uri": "https://localhost:8080/"
        },
        "id": "LX6b0bWenfmd",
        "outputId": "a949970c-629a-4e9d-9048-e7d9d6ef354e"
      },
      "execution_count": null,
      "outputs": [
        {
          "output_type": "stream",
          "name": "stdout",
          "text": [
            "impedence is (100+157.0796323611798j)\n",
            "magnitute is: 186.20958864334403\n"
          ]
        }
      ]
    }
  ]
}
{
  "nbformat": 4,
  "nbformat_minor": 0,
  "metadata": {
    "colab": {
      "provenance": [],
      "authorship_tag": "ABX9TyP5FVgWGdYLXp3q1q0lwPif",
      "include_colab_link": true
    },
    "kernelspec": {
      "name": "python3",
      "display_name": "Python 3"
    },
    "language_info": {
      "name": "python"
    }
  },
  "cells": [
    {
      "cell_type": "markdown",
      "metadata": {
        "id": "view-in-github",
        "colab_type": "text"
      },
      "source": [
        "<a href=\"https://colab.research.google.com/github/RAHUL120244/LAB-EXPELRIMENT/blob/main/ASSIGNMENT2.ipynb\" target=\"_parent\"><img src=\"https://colab.research.google.com/assets/colab-badge.svg\" alt=\"Open In Colab\"/></a>"
      ]
    },
    {
      "cell_type": "markdown",
      "source": [
        "                                                NAME:-RAHUL SIHAG\n",
        "                                                REG. NO.:-2024UG2071\n",
        "                                                SECTION:-D\n",
        "                                                SUBJECT:-PYTHON PROGRAMMING ASSIGNMENT"
      ],
      "metadata": {
        "id": "qB8rdKmP5MK5"
      }
    },
    {
      "cell_type": "markdown",
      "source": [
        "                                               ASSIGNMENT:2"
      ],
      "metadata": {
        "id": "EYkbP_x26FDW"
      }
    },
    {
      "cell_type": "markdown",
      "source": [
        "                ## ------------------ Part A: Basic Functions (Q1 - Q6) ------------------"
      ],
      "metadata": {
        "id": "vji4-U746k92"
      }
    },
    {
      "cell_type": "markdown",
      "source": [
        "Q1. Write a function welcome() that prints:\n",
        "\"Welcome to Python Fitness Tracker\n",
        "�\n",
        "�\n",
        " \" Call the function 3 times."
      ],
      "metadata": {
        "id": "Aetts9cP572W"
      }
    },
    {
      "cell_type": "code",
      "execution_count": 1,
      "metadata": {
        "colab": {
          "base_uri": "https://localhost:8080/"
        },
        "id": "aS5AuL9341xL",
        "outputId": "e79c313c-5e17-41d6-de54-75a26c534e9c"
      },
      "outputs": [
        {
          "output_type": "stream",
          "name": "stdout",
          "text": [
            "Welcome to Python Fitness Tracker 💪\n",
            "Welcome to Python Fitness Tracker 💪\n",
            "Welcome to Python Fitness Tracker 💪\n"
          ]
        }
      ],
      "source": [
        "# ===== Q1: welcome() =====\n",
        "## Q1: welcome() prints a welcome message.\n",
        "# Define a function named welcome with no parameters\n",
        "def welcome():  # function definition line\n",
        "    # Print a friendly message when the function is called\n",
        "    print('Welcome to Python Fitness Tracker \\U0001F4AA')  # output text\n",
        "\n",
        "# Call the function three times as required in the assignment:\n",
        "welcome()  # 1st call\n",
        "welcome()  # 2nd call\n",
        "welcome()  # 3rd call\n"
      ]
    },
    {
      "cell_type": "markdown",
      "source": [
        "\n",
        "Q2. Write a function bmi(weight, height) that returns the Body Mass Index (BMI).\n",
        "Formula: BMI = weight / height**2\n",
        "Example: print(bmi(68, 1.75))\n"
      ],
      "metadata": {
        "id": "9ttYOzy88wE5"
      }
    },
    {
      "cell_type": "code",
      "source": [
        "# ===== Q2: bmi(weight, height) =====\n",
        "## Q2: bmi(weight, height) returns Body Mass Index\n",
        "# Define the function with two parameters: weight (kg) and height (m)\n",
        "def bmi(weight, height):  # weight in kg, height in meters\n",
        "    # Compute BMI using the formula and return the result\n",
        "    return weight / (height ** 2)  # division and exponent operator used\n",
        "\n",
        "# Example usage printing the returned BMI value:\n",
        "print('BMI of 68kg and 1.75m:', bmi(68, 1.75))  # expected float output"
      ],
      "metadata": {
        "colab": {
          "base_uri": "https://localhost:8080/"
        },
        "id": "U_KUu6ml81GJ",
        "outputId": "60cf2c10-736b-4626-9e75-a085f9eb2dd0"
      },
      "execution_count": 2,
      "outputs": [
        {
          "output_type": "stream",
          "name": "stdout",
          "text": [
            "BMI of 68kg and 1.75m: 22.20408163265306\n"
          ]
        }
      ]
    },
    {
      "cell_type": "markdown",
      "source": [
        "\n",
        "Q3. Write a function calories_burned(duration, rate=10) that returns total calories as duration * rate.\n",
        "Call the function once with one argument and once with both arguments."
      ],
      "metadata": {
        "id": "i_5Hc1ns8-pQ"
      }
    },
    {
      "cell_type": "code",
      "source": [
        "# ===== Q3: calories_burned =====\n",
        "## Q3: calories_burned(duration, rate=10) returns total calories burnt\n",
        "# duration: numeric, rate: calories per unit duration (default 10)\n",
        "def calories_burned(duration, rate=10):  # rate has a default value\n",
        "    # Multiply duration by rate to get total calories\n",
        "    return duration * rate  # simple arithmetic\n",
        "\n",
        "# Call once with one argument (uses default rate):\n",
        "print('Calories (default rate):', calories_burned(30))  # uses rate=10\n",
        "# Call once with both arguments to override the rate:\n",
        "print('Calories (custom rate 12):', calories_burned(30, 12))\n"
      ],
      "metadata": {
        "colab": {
          "base_uri": "https://localhost:8080/"
        },
        "id": "BADELGMc9DN3",
        "outputId": "2ba3fe77-c6f0-45ef-d6ae-e389276c8d60"
      },
      "execution_count": 3,
      "outputs": [
        {
          "output_type": "stream",
          "name": "stdout",
          "text": [
            "Calories (default rate): 300\n",
            "Calories (custom rate 12): 360\n"
          ]
        }
      ]
    },
    {
      "cell_type": "markdown",
      "source": [
        "Q4. Create a function heart_rate_stats(max_bpm, avg_bpm, resting_bpm) that returns:\n",
        "● Heart Rate Reserve = max_bpm - resting_bpm\n",
        "● Average Difference = avg_bpm - resting_bpm\n",
        "Print both returned values separately."
      ],
      "metadata": {
        "id": "hbxLH6z69I1m"
      }
    },
    {
      "cell_type": "code",
      "source": [
        "# ===== Q4: heart_rate_stats =====\n",
        "## Q4: heart_rate_stats(max_bpm, avg_bpm, resting_bpm) returns two values\n",
        "# Define function taking three parameters\n",
        "def heart_rate_stats(max_bpm, avg_bpm, resting_bpm):\n",
        "    # Calculate Heart Rate Reserve (HRR) as max minus resting\n",
        "    hrr = max_bpm - resting_bpm  # integer subtraction\n",
        "    # Calculate average difference between avg and resting\n",
        "    avg_diff = avg_bpm - resting_bpm  # integer subtraction\n",
        "    # Return both values as a tuple (hrr, avg_diff)\n",
        "    return hrr, avg_diff  # tuple packing\n",
        "\n",
        "# Example - unpack returned tuple into two variables\n",
        "hrr_val, avg_difference = heart_rate_stats(180, 120, 60)  # sample numbers\n",
        "print('HRR:', hrr_val)  # print HRR\n",
        "print('Average Difference:', avg_difference)  # print average diff\n"
      ],
      "metadata": {
        "colab": {
          "base_uri": "https://localhost:8080/"
        },
        "id": "GxHYLep89M7v",
        "outputId": "f50165b1-7fa9-44e4-afff-dc35aa47922e"
      },
      "execution_count": 4,
      "outputs": [
        {
          "output_type": "stream",
          "name": "stdout",
          "text": [
            "HRR: 120\n",
            "Average Difference: 60\n"
          ]
        }
      ]
    },
    {
      "cell_type": "markdown",
      "source": [
        "\n",
        "Q5. Write a function workout_summary(name, duration, type='Cardio', calories=500) that prints:\n",
        "\"Amit completed 1.2 hours of Cardio and burned 500 calories.\" Call it using keyword arguments in\n",
        "random order."
      ],
      "metadata": {
        "id": "fjxEZ4Fl9UR3"
      }
    },
    {
      "cell_type": "code",
      "source": [
        "# ===== Q5: workout_summary =====\n",
        "## Q5: workout_summary(name, duration, type='Cardio', calories=500) prints a summary\n",
        "# Define the function with default values for type and calories\n",
        "def workout_summary(name, duration, type='Cardio', calories=500):\n",
        "    # Build a formatted string using f-string and print it\n",
        "    print(f\"{name} completed {duration} hours of {type} and burned {calories} calories.\")\n",
        "\n",
        "# Call using keyword arguments in random order as required\n",
        "workout_summary(calories=450, name='Amit', duration=1.2, type='Cardio')\n"
      ],
      "metadata": {
        "colab": {
          "base_uri": "https://localhost:8080/"
        },
        "id": "PDRLAQ5E9Zp_",
        "outputId": "a0816656-de10-4762-c558-bd5b92279175"
      },
      "execution_count": 5,
      "outputs": [
        {
          "output_type": "stream",
          "name": "stdout",
          "text": [
            "Amit completed 1.2 hours of Cardio and burned 450 calories.\n"
          ]
        }
      ]
    },
    {
      "cell_type": "markdown",
      "source": [
        "\n",
        "Q6. Create two functions:\n",
        "● add_calories(c1, c2) that returns sum of calories.\n",
        "● weekly_burn() that calls add_calories() 7 times for each day’s burn.\n",
        "Print total burn."
      ],
      "metadata": {
        "id": "G0tAXSMK9ix_"
      }
    },
    {
      "cell_type": "code",
      "source": [
        "# ===== Q6: add_calories & weekly_burn =====\n",
        "## Q6: add_calories(c1, c2) and weekly_burn() that calls add_calories 7 times\n",
        "# Define a helper that adds two numbers and returns the result\n",
        "def add_calories(c1, c2):\n",
        "    # Return the sum of two calorie values\n",
        "    return c1 + c2\n",
        "\n",
        "# weekly_burn will accept a list of 7 daily burns and compute total\n",
        "def weekly_burn(daily_burns):\n",
        "    # Start total at zero\n",
        "    total = 0\n",
        "    # Iterate over each day's burn and add to total using add_calories\n",
        "    for burn in daily_burns:\n",
        "        total = add_calories(total, burn)  # update running total\n",
        "    # Print the total and return it\n",
        "    print('Total weekly burn:', total)\n",
        "    return total\n",
        "\n",
        "# Example call with 7 days' data\n",
        "weekly_burn([300, 350, 400, 250, 500, 600, 200])\n"
      ],
      "metadata": {
        "colab": {
          "base_uri": "https://localhost:8080/"
        },
        "id": "4T42KXSk9n0Q",
        "outputId": "eff6578b-8ed2-40d7-cd9c-7bb6a3097fac"
      },
      "execution_count": 6,
      "outputs": [
        {
          "output_type": "stream",
          "name": "stdout",
          "text": [
            "Total weekly burn: 2600\n"
          ]
        },
        {
          "output_type": "execute_result",
          "data": {
            "text/plain": [
              "2600"
            ]
          },
          "metadata": {},
          "execution_count": 6
        }
      ]
    },
    {
      "cell_type": "markdown",
      "source": [
        "                                 \n",
        "\n",
        "                                 Part B: Intermediate Functions (Q7 – Q13)"
      ],
      "metadata": {
        "id": "WiWGDxRO93aq"
      }
    },
    {
      "cell_type": "markdown",
      "source": [
        "\n",
        "\n",
        "Q7. Write a function fitness_profile(name, weight, height, age) that prints all details.\n",
        "Call it once using positional and once using keyword arguments."
      ],
      "metadata": {
        "id": "d4rbhm0n-Jpm"
      }
    },
    {
      "cell_type": "code",
      "source": [
        "# ===== Q7: fitness_profile =====\n",
        "## Q7: fitness_profile(name, weight, height, age) prints details\n",
        "def fitness_profile(name, weight, height, age):\n",
        "    # Print basic details line by line and include BMI using the bmi() function\n",
        "    print('Name:', name)  # print name\n",
        "    print('Weight (kg):', weight)  # print weight\n",
        "    print('Height (m):', height)  # print height\n",
        "    print('Age (years):', age)  # print age\n",
        "    print('BMI:', bmi(weight, height))  # compute & print BMI\n",
        "\n",
        "# Call once with positional arguments\n",
        "fitness_profile('Rahul', 70, 1.75, 20)\n",
        "# Call once with keyword arguments\n",
        "fitness_profile(name='Sneha', height=1.6, weight=55, age=22)\n"
      ],
      "metadata": {
        "colab": {
          "base_uri": "https://localhost:8080/"
        },
        "id": "MlaXCJaR99nX",
        "outputId": "991be228-8f24-4b6e-84fb-9e81dd33e918"
      },
      "execution_count": 7,
      "outputs": [
        {
          "output_type": "stream",
          "name": "stdout",
          "text": [
            "Name: Rahul\n",
            "Weight (kg): 70\n",
            "Height (m): 1.75\n",
            "Age (years): 20\n",
            "BMI: 22.857142857142858\n",
            "Name: Sneha\n",
            "Weight (kg): 55\n",
            "Height (m): 1.6\n",
            "Age (years): 22\n",
            "BMI: 21.484374999999996\n"
          ]
        }
      ]
    },
    {
      "cell_type": "markdown",
      "source": [
        "\n",
        "Q8. Write a function total_calories(*args) that returns the sum of all given calorie values.\n",
        "Example: print(total_calories(200, 300, 150, 400))"
      ],
      "metadata": {
        "id": "UO2LIb5G-UcH"
      }
    },
    {
      "cell_type": "code",
      "source": [
        "# ===== Q8: total_calories =====\n",
        "## Q8: total_calories(*args) returns sum of variable number of calorie values\n",
        "def total_calories(*args):\n",
        "    # args is a tuple of all provided values; sum() returns their total\n",
        "    return sum(args)\n",
        "\n",
        "# Example\n",
        "print('Total calories example:', total_calories(200, 300, 150, 400))"
      ],
      "metadata": {
        "colab": {
          "base_uri": "https://localhost:8080/"
        },
        "id": "QKTQVdvb-Gjm",
        "outputId": "d621dbd1-988e-4ac0-f0f6-cadbffcdc8df"
      },
      "execution_count": 8,
      "outputs": [
        {
          "output_type": "stream",
          "name": "stdout",
          "text": [
            "Total calories example: 1050\n"
          ]
        }
      ]
    },
    {
      "cell_type": "markdown",
      "source": [
        "\n",
        "Q9. Define a function generate_profile(name, age, weight, height) that returns a dictionary with keys:\n",
        "Name, Age, Weight, Height, BMI."
      ],
      "metadata": {
        "id": "x24SAo9v-jWJ"
      }
    },
    {
      "cell_type": "code",
      "source": [
        "# ===== Q9: generate_profile =====\n",
        "## Q9: generate_profile(name, age, weight, height) returns a dictionary with BMI\n",
        "def generate_profile(name, age, weight, height):\n",
        "    # Create a dictionary with specified keys and computed BMI\n",
        "    profile = {\n",
        "        'Name': name,  # store name\n",
        "        'Age': age,    # store age\n",
        "        'Weight': weight,  # store weight\n",
        "        'Height': height,  # store height\n",
        "        'BMI': bmi(weight, height)  # compute BMI using bmi()\n",
        "    }\n",
        "    # Return the dictionary to the caller\n",
        "    return profile\n",
        "\n",
        "# Example\n",
        "print('Generated profile:', generate_profile('Asha', 25, 60, 1.65))\n"
      ],
      "metadata": {
        "colab": {
          "base_uri": "https://localhost:8080/"
        },
        "id": "hAiJpeCy-m_R",
        "outputId": "7bd66ab6-10b4-4467-8b99-dbb340755584"
      },
      "execution_count": 9,
      "outputs": [
        {
          "output_type": "stream",
          "name": "stdout",
          "text": [
            "Generated profile: {'Name': 'Asha', 'Age': 25, 'Weight': 60, 'Height': 1.65, 'BMI': 22.03856749311295}\n"
          ]
        }
      ]
    },
    {
      "cell_type": "markdown",
      "source": [
        "\n",
        "Q10. Create a global variable bonus = 100.\n",
        "Define a function calorie_reward(burn) that adds bonus to burn.\n",
        "Then redefine it using a local variable bonus = 200 and observe difference."
      ],
      "metadata": {
        "id": "ZU1ot2eh-tCx"
      }
    },
    {
      "cell_type": "code",
      "source": [
        "# ===== Q10: global vs local =====\n",
        "## Q10: Demonstrate global vs local variable behavior using bonus\n",
        "# Define a global variable bonus\n",
        "bonus = 100  # global bonus value\n",
        "\n",
        "# Function that uses the global bonus variable\n",
        "def calorie_reward_global(burn):\n",
        "    # Add the global bonus to burn - no local variable defined here\n",
        "    return burn + bonus\n",
        "\n",
        "# Function that defines a local bonus variable (shadows global)\n",
        "def calorie_reward_local(burn):\n",
        "    bonus = 200  # local variable only visible inside this function\n",
        "    return burn + bonus  # uses local bonus instead of global\n",
        "\n",
        "# Show difference by calling both functions\n",
        "print('Global bonus result:', calorie_reward_global(900))  # uses bonus=100\n",
        "print('Local bonus result:', calorie_reward_local(900))    # uses bonus=200"
      ],
      "metadata": {
        "colab": {
          "base_uri": "https://localhost:8080/"
        },
        "id": "FeA5oAyy-x1h",
        "outputId": "df6f5b54-1ef0-433b-e24e-eb0ea219176f"
      },
      "execution_count": 10,
      "outputs": [
        {
          "output_type": "stream",
          "name": "stdout",
          "text": [
            "Global bonus result: 1000\n",
            "Local bonus result: 1100\n"
          ]
        }
      ]
    },
    {
      "cell_type": "markdown",
      "source": [
        "\n",
        "Q11. Write a function calculate_HRR(max_bpm, resting_bpm, intensity=0.7) that returns Heart Rate\n",
        "Reserve zone."
      ],
      "metadata": {
        "id": "aJbpEZ88-7HT"
      }
    },
    {
      "cell_type": "code",
      "source": [
        "# ===== Q11: calculate_HRR =====\n",
        "## Q11: calculate_HRR(max_bpm, resting_bpm, intensity=0.7) returns target heart rate\n",
        "def calculate_HRR(max_bpm, resting_bpm, intensity=0.7):\n",
        "    # Heart Rate Reserve is max minus resting\n",
        "    reserve = max_bpm - resting_bpm\n",
        "    # Target heart rate = resting + intensity * reserve\n",
        "    target = resting_bpm + intensity * reserve\n",
        "    return target  # return numeric target heart rate\n",
        "\n",
        "print('HRR target example:', calculate_HRR(190, 60, 0.75))  # example call\n"
      ],
      "metadata": {
        "colab": {
          "base_uri": "https://localhost:8080/"
        },
        "id": "sg8KjI7q-_pi",
        "outputId": "43a49a09-fd2b-40b4-dba6-5d68d7d9bee2"
      },
      "execution_count": 11,
      "outputs": [
        {
          "output_type": "stream",
          "name": "stdout",
          "text": [
            "HRR target example: 157.5\n"
          ]
        }
      ]
    },
    {
      "cell_type": "markdown",
      "source": [
        "\n",
        "Q12. Write a function daily_burns(calories_list) that prints burn for each day and returns total."
      ],
      "metadata": {
        "id": "gTaSYRyl_FPh"
      }
    },
    {
      "cell_type": "code",
      "source": [
        "# ===== Q12: daily_burns =====\n",
        "## Q12: daily_burns(calories_list) prints each day's burn and returns total\n",
        "def daily_burns(calories_list):\n",
        "    total = 0  # initialize running total to zero\n",
        "    # enumerate provides (index, value) starting from 1 for human-friendly day numbers\n",
        "    for i, c in enumerate(calories_list, 1):\n",
        "        print(f'Day {i}:', c, 'calories')  # print day and calories\n",
        "        total += c  # accumulate total\n",
        "    print('Total calories burned:', total)  # print total after loop\n",
        "    return total  # return total to caller\n",
        "\n",
        "daily_burns([300, 400, 250, 500])  # example call\n"
      ],
      "metadata": {
        "colab": {
          "base_uri": "https://localhost:8080/"
        },
        "id": "1ctzvB8G_JLC",
        "outputId": "e06dd5d7-c2a1-4dc9-d337-c26ca48568d6"
      },
      "execution_count": 12,
      "outputs": [
        {
          "output_type": "stream",
          "name": "stdout",
          "text": [
            "Day 1: 300 calories\n",
            "Day 2: 400 calories\n",
            "Day 3: 250 calories\n",
            "Day 4: 500 calories\n",
            "Total calories burned: 1450\n"
          ]
        },
        {
          "output_type": "execute_result",
          "data": {
            "text/plain": [
              "1450"
            ]
          },
          "metadata": {},
          "execution_count": 12
        }
      ]
    },
    {
      "cell_type": "markdown",
      "source": [
        "\n",
        "Q13. Define a function filter_high_calories(calories, threshold) that returns all values > threshold.\n",
        "Use list comprehension inside."
      ],
      "metadata": {
        "id": "oFqqO7lw_Rdy"
      }
    },
    {
      "cell_type": "code",
      "source": [
        "# ===== Q13: filter_high_calories =====\n",
        "## Q13: filter_high_calories(calories, threshold) uses list comprehension\n",
        "def filter_high_calories(calories, threshold):\n",
        "    # Return a new list containing only values greater than threshold\n",
        "    return [c for c in calories if c > threshold]  # list comprehension\n",
        "\n",
        "print('Filtered list:', filter_high_calories([100, 600, 900, 250], 500))  # example\n"
      ],
      "metadata": {
        "colab": {
          "base_uri": "https://localhost:8080/"
        },
        "id": "TVn67GTt_VvK",
        "outputId": "55dac2ff-1f59-4743-bf14-e459f5a02a0f"
      },
      "execution_count": 13,
      "outputs": [
        {
          "output_type": "stream",
          "name": "stdout",
          "text": [
            "Filtered list: [600, 900]\n"
          ]
        }
      ]
    },
    {
      "cell_type": "markdown",
      "source": [
        "\n",
        "                                     Part C: Advanced Concepts (Q14 – Q20)"
      ],
      "metadata": {
        "id": "ZSFeLeAS_cpC"
      }
    },
    {
      "cell_type": "markdown",
      "source": [
        "\n",
        "Q14. Create a lambda function for BMI:\n",
        "bmi = lambda w, h: w / (h ** 2)\n",
        "Print result for (70, 1.75)."
      ],
      "metadata": {
        "id": "BI8s88zg_lIx"
      }
    },
    {
      "cell_type": "code",
      "source": [
        "# ===== Q14: lambda BMI =====\n",
        "## Q14: Create a lambda function for BMI and print result for (70, 1.75)\n",
        "# Lambda expression returns BMI when given weight and height\n",
        "bmi_lambda = lambda w, h: w / (h ** 2)  # single-line anonymous function\n",
        "print('Lambda BMI for 70,1.75:', bmi_lambda(70, 1.75))  # call the lambda\n"
      ],
      "metadata": {
        "colab": {
          "base_uri": "https://localhost:8080/"
        },
        "id": "AuexChZt_rcj",
        "outputId": "7119559d-cd3f-4621-a6da-7124e1615207"
      },
      "execution_count": 14,
      "outputs": [
        {
          "output_type": "stream",
          "name": "stdout",
          "text": [
            "Lambda BMI for 70,1.75: 22.857142857142858\n"
          ]
        }
      ]
    },
    {
      "cell_type": "markdown",
      "source": [
        "\n",
        "Q15. Write a function square(n) and apply it using map() on [2,4,6,8].\n",
        "Print squared results."
      ],
      "metadata": {
        "id": "CW3Ay-qI_vhM"
      }
    },
    {
      "cell_type": "code",
      "source": [
        "# ===== Q15: square/map =====\n",
        "## Q15: square(n) used with map() on [2,4,6,8]\n",
        "def square(n):  # define square function\n",
        "    return n * n  # multiply n by itself\n",
        "\n",
        "# Use map to apply square to each element, then convert to list\n",
        "squared_list = list(map(square, [2, 4, 6, 8]))\n",
        "print('Squared values:', squared_list)  # print result"
      ],
      "metadata": {
        "colab": {
          "base_uri": "https://localhost:8080/"
        },
        "id": "AZT_j2pF_0Lx",
        "outputId": "422db75d-fd7c-481b-b64a-bd8c8d49863a"
      },
      "execution_count": 15,
      "outputs": [
        {
          "output_type": "stream",
          "name": "stdout",
          "text": [
            "Squared values: [4, 16, 36, 64]\n"
          ]
        }
      ]
    },
    {
      "cell_type": "markdown",
      "source": [
        "\n",
        "Q16. Write a function is_high_burn(x) that returns True if x > 1000.\n",
        "Use filter() on list [800, 1200, 950, 1500, 700, 2000]."
      ],
      "metadata": {
        "id": "6tRtNSNX_5aM"
      }
    },
    {
      "cell_type": "code",
      "source": [
        "# ===== Q16: is_high_burn/filter =====\n",
        "## Q16: is_high_burn(x) -> True if x > 1000. Use filter on a sample list.\n",
        "def is_high_burn(x):\n",
        "    return x > 1000  # boolean expression\n",
        "\n",
        "# Use filter to pick only high burns and convert result to list\n",
        "high_burns = list(filter(is_high_burn, [800, 1200, 950, 1500, 700, 2000]))\n",
        "print('High burns (filtered):', high_burns)\n"
      ],
      "metadata": {
        "colab": {
          "base_uri": "https://localhost:8080/"
        },
        "id": "AdFrdQTa_9-J",
        "outputId": "d812c808-7607-4cf9-cd1b-8fc7ae16e1e3"
      },
      "execution_count": 16,
      "outputs": [
        {
          "output_type": "stream",
          "name": "stdout",
          "text": [
            "High burns (filtered): [1200, 1500, 2000]\n"
          ]
        }
      ]
    },
    {
      "cell_type": "markdown",
      "source": [
        "\n",
        "Q17. Write a recursive function sum_n(n) to return sum of first n natural numbers.\n",
        "Call sum_n(100)."
      ],
      "metadata": {
        "id": "_qIMEw02ACij"
      }
    },
    {
      "cell_type": "code",
      "source": [
        "# ===== Q17: sum_n recursive =====\n",
        "## Q17: Recursive sum_n(n) returns sum of first n natural numbers\n",
        "def sum_n(n):\n",
        "    # Base case: if n is 0 or 1, return n\n",
        "    if n <= 1:\n",
        "        return n\n",
        "    # Recursive case: n + sum of first n-1 numbers\n",
        "    return n + sum_n(n - 1)\n",
        "\n",
        "print('Sum of first 100 numbers:', sum_n(100))  # example call\n"
      ],
      "metadata": {
        "colab": {
          "base_uri": "https://localhost:8080/"
        },
        "id": "hmJanK4NAF0o",
        "outputId": "9027cd5d-9c95-4d8a-f993-a31c7e8bd2a1"
      },
      "execution_count": 17,
      "outputs": [
        {
          "output_type": "stream",
          "name": "stdout",
          "text": [
            "Sum of first 100 numbers: 5050\n"
          ]
        }
      ]
    },
    {
      "cell_type": "markdown",
      "source": [
        "\n",
        "Q18. Write a recursive function factorial(n) to return n!\n",
        "Call factorial(6)."
      ],
      "metadata": {
        "id": "ZNmLL4QGALTz"
      }
    },
    {
      "cell_type": "code",
      "source": [
        "# ===== Q18: factorial =====\n",
        "## Q18: Recursive factorial(n)\n",
        "def factorial(n):\n",
        "    # Base case: factorial of 0 or 1 is 1\n",
        "    if n <= 1:\n",
        "        return 1\n",
        "    # Recursive case: n * factorial(n-1)\n",
        "    return n * factorial(n - 1)\n",
        "\n",
        "print('factorial(6):', factorial(6))  # expected 720"
      ],
      "metadata": {
        "colab": {
          "base_uri": "https://localhost:8080/"
        },
        "id": "P7kO4NzMAPAJ",
        "outputId": "673fb5ab-94ad-475c-e2c0-ed637d1a2ca8"
      },
      "execution_count": 18,
      "outputs": [
        {
          "output_type": "stream",
          "name": "stdout",
          "text": [
            "factorial(6): 720\n"
          ]
        }
      ]
    },
    {
      "cell_type": "markdown",
      "source": [
        "\n",
        "Q19. Write a function mean_std(array) that returns mean and standard deviation using NumPy.\n",
        "Test: import numpy as np\n",
        "data = np.array([10,20,30,40,50])\n",
        "print(mean_std(data))"
      ],
      "metadata": {
        "id": "bn4BQR6eATYc"
      }
    },
    {
      "cell_type": "code",
      "source": [
        "# ===== Q19: mean_std =====\n",
        "## Q19: mean_std(array) returns mean and standard deviation using NumPy\n",
        "import numpy as np  # numpy is used for numerical operations\n",
        "\n",
        "def mean_std(array):\n",
        "    # Convert input to numpy array if not already one (handles lists)\n",
        "    arr = np.array(array)\n",
        "    # Compute mean using numpy's mean function\n",
        "    mean_val = np.mean(arr)\n",
        "    # Compute standard deviation (population std) using numpy's std\n",
        "    std_val = np.std(arr, ddof=0)\n",
        "    # Return both values as floats\n",
        "    return float(mean_val), float(std_val)\n",
        "\n",
        "# Test data and example call\n",
        "data = [10, 20, 30, 40, 50]\n",
        "print('Mean & Std:', mean_std(data))"
      ],
      "metadata": {
        "colab": {
          "base_uri": "https://localhost:8080/"
        },
        "id": "P7TzDLGrAYFT",
        "outputId": "2e2711c3-ae61-434a-aeb3-0e756d2069da"
      },
      "execution_count": 19,
      "outputs": [
        {
          "output_type": "stream",
          "name": "stdout",
          "text": [
            "Mean & Std: (30.0, 14.142135623730951)\n"
          ]
        }
      ]
    },
    {
      "cell_type": "markdown",
      "source": [
        "\n",
        "Q20. Write a function plot_workout(time, calories) that plots a line chart using Matplotlib with:\n",
        "● X-axis = time\n",
        "● Y-axis = calories\n",
        "● Title = \"Workout Efficiency Tracker\""
      ],
      "metadata": {
        "id": "BelzdgnuAevy"
      }
    },
    {
      "cell_type": "code",
      "source": [
        "# ===== Q20: plot_workout =====\n",
        "## Q20: plot_workout(time, calories) - line chart using Matplotlib\n",
        "import matplotlib.pyplot as plt  # import plotting library\n",
        "\n",
        "def plot_workout(time, calories, show_plot=True):\n",
        "    # Create a new figure with a specified size (width, height) in inches\n",
        "    plt.figure(figsize=(8,4))\n",
        "    # Plot the data as a line with markers at data points\n",
        "    plt.plot(time, calories, marker='o')\n",
        "    # Set labels for x and y axes\n",
        "    plt.xlabel('Time')\n",
        "    plt.ylabel('Calories')\n",
        "    # Add a title for the chart\n",
        "    plt.title('Workout Efficiency Tracker')\n",
        "    # Add grid lines to make the plot easier to read\n",
        "    plt.grid(True)\n",
        "    # Show the plot when running interactively (Colab/Jupyter)\n",
        "    if show_plot:\n",
        "        plt.show()\n",
        "\n",
        "# Example data to visualize\n",
        "plot_workout([1,2,3,4,5], [200, 300, 400, 350, 500])\n"
      ],
      "metadata": {
        "colab": {
          "base_uri": "https://localhost:8080/",
          "height": 410
        },
        "id": "XIulMIihAjoC",
        "outputId": "bb7291bc-c83a-4a6e-81aa-d37d800fda88"
      },
      "execution_count": 20,
      "outputs": [
        {
          "output_type": "display_data",
          "data": {
            "text/plain": [
              "<Figure size 800x400 with 1 Axes>"
            ],
            "image/png": "[encoded data removed]"
          },
          "metadata": {}
        }
      ]
    },
    {
      "cell_type": "markdown",
      "source": [
        "\n",
        "                                                  Bonus Section (Q21 – Q25)"
      ],
      "metadata": {
        "id": "Ds01iqQEAt58"
      }
    },
    {
      "cell_type": "markdown",
      "source": [
        "\n",
        "Q21. Write a function to return top 5 calorie burners from your dataset (Final_data.csv)."
      ],
      "metadata": {
        "id": "8QNzi2DGAwRZ"
      }
    },
    {
      "cell_type": "code",
      "source": [
        "# ===== Q21: top_n_calorie_burners =====\n",
        "## Q21: top_n_calorie_burners(csv_path, n=5) - returns top n rows by Calories_Burned\n",
        "import csv       # Used to read and write CSV files\n",
        "import os        # Used to check if file exists\n",
        "import numpy as np   # For numerical calculations like correlation\n",
        "import matplotlib.pyplot as plt  # For data visualization (plots)\n",
        "from collections import defaultdict  # For grouping data\n",
        "import pandas as pd  # For easily creating dummy CSV data\n",
        "\n",
        "\n",
        "# STEP 1 — Create a Dummy CSV file automatically if not found\n",
        "\n",
        "def create_dummy_csv():\n",
        "    \"\"\"Creates a dummy dataset named Final_data.csv if it doesn't exist.\"\"\"\n",
        "    if not os.path.exists('Final_data.csv'):  # Check if file already exists\n",
        "        data = {\n",
        "            'Name': ['Amit', 'Sneha', 'Rahul', 'Tina', 'Kiran'],\n",
        "            'Gender': ['M', 'F', 'M', 'F', 'M'],\n",
        "            'Workout_Type': ['Cardio', 'Yoga', 'Weights', 'Cardio', 'HIIT'],\n",
        "            'Session_Duration': [1.0, 0.5, 1.5, 1.2, 0.8],\n",
        "            'Calories_Burned': [300, 150, 450, 400, 500],\n",
        "            'Heart_Rate': [120, 110, 130, 125, 140]\n",
        "        }\n",
        "        df = pd.DataFrame(data)\n",
        "        df.to_csv('Final_data.csv', index=False)\n",
        "        print(\" Dummy Final_data.csv created successfully!\")\n",
        "\n",
        "create_dummy_csv()\n",
        "\n",
        "# Q21 — top_n_calorie_burners\n",
        "\n",
        "def top_n_calorie_burners(csv_path='Final_data.csv', n=5):\n",
        "    \"\"\"Displays the top N people who burned the most calories.\"\"\"\n",
        "    if not os.path.exists(csv_path):\n",
        "        print(' CSV file not found:', csv_path)\n",
        "        return []\n",
        "    rows = []\n",
        "    with open(csv_path, newline='') as f:\n",
        "        reader = csv.DictReader(f)\n",
        "        for r in reader:\n",
        "            try:\n",
        "                r['Calories_Burned'] = float(r.get('Calories_Burned', 0))\n",
        "                rows.append(r)\n",
        "            except ValueError:\n",
        "                continue\n",
        "    rows_sorted = sorted(rows, key=lambda x: x['Calories_Burned'], reverse=True)\n",
        "    print(f\"\\n Top {n} Calorie Burners:\")\n",
        "    for person in rows_sorted[:n]:\n",
        "        print(f\"{person['Name']} burned {person['Calories_Burned']} calories ({person['Workout_Type']})\")\n",
        "    return rows_sorted[:n]\n",
        "\n",
        "top_n_calorie_burners()"
      ],
      "metadata": {
        "colab": {
          "base_uri": "https://localhost:8080/"
        },
        "id": "n_-i7oR7A2NC",
        "outputId": "e877dd26-6b26-4ed5-9f99-25482ad8278b"
      },
      "execution_count": 27,
      "outputs": [
        {
          "output_type": "stream",
          "name": "stdout",
          "text": [
            "✅ Dummy Final_data.csv created successfully!\n",
            "\n",
            "🔥 Top 5 Calorie Burners:\n",
            "Kiran burned 500.0 calories (HIIT)\n",
            "Rahul burned 450.0 calories (Weights)\n",
            "Tina burned 400.0 calories (Cardio)\n",
            "Amit burned 300.0 calories (Cardio)\n",
            "Sneha burned 150.0 calories (Yoga)\n"
          ]
        },
        {
          "output_type": "execute_result",
          "data": {
            "text/plain": [
              "[{'Name': 'Kiran',\n",
              "  'Gender': 'M',\n",
              "  'Workout_Type': 'HIIT',\n",
              "  'Session_Duration': '0.8',\n",
              "  'Calories_Burned': 500.0,\n",
              "  'Heart_Rate': '140'},\n",
              " {'Name': 'Rahul',\n",
              "  'Gender': 'M',\n",
              "  'Workout_Type': 'Weights',\n",
              "  'Session_Duration': '1.5',\n",
              "  'Calories_Burned': 450.0,\n",
              "  'Heart_Rate': '130'},\n",
              " {'Name': 'Tina',\n",
              "  'Gender': 'F',\n",
              "  'Workout_Type': 'Cardio',\n",
              "  'Session_Duration': '1.2',\n",
              "  'Calories_Burned': 400.0,\n",
              "  'Heart_Rate': '125'},\n",
              " {'Name': 'Amit',\n",
              "  'Gender': 'M',\n",
              "  'Workout_Type': 'Cardio',\n",
              "  'Session_Duration': '1.0',\n",
              "  'Calories_Burned': 300.0,\n",
              "  'Heart_Rate': '120'},\n",
              " {'Name': 'Sneha',\n",
              "  'Gender': 'F',\n",
              "  'Workout_Type': 'Yoga',\n",
              "  'Session_Duration': '0.5',\n",
              "  'Calories_Burned': 150.0,\n",
              "  'Heart_Rate': '110'}]"
            ]
          },
          "metadata": {},
          "execution_count": 27
        }
      ]
    },
    {
      "cell_type": "markdown",
      "source": [
        "\n",
        "Q22. Write a function to calculate and print average heart rate by gender."
      ],
      "metadata": {
        "id": "2XOtDRz6BAUD"
      }
    },
    {
      "cell_type": "code",
      "source": [
        "# ===== Q22: avg_heart_rate_by_gender =====\n",
        "## Q22: average_heart_rate_by_gender(csv_path, gender_col='Gender', hr_col='Heart_Rate')\n",
        "import csv       # Used to read and write CSV files\n",
        "import os        # Used to check if file exists\n",
        "import numpy as np   # For numerical calculations like correlation\n",
        "import matplotlib.pyplot as plt  # For data visualization (plots)\n",
        "from collections import defaultdict  # For grouping data\n",
        "import pandas as pd  # For easily creating dummy CSV data\n",
        "\n",
        "\n",
        "# STEP 1 — Create a Dummy CSV file automatically if not found\n",
        "\n",
        "def create_dummy_csv():\n",
        "    \"\"\"Creates a dummy dataset named Final_data.csv if it doesn't exist.\"\"\"\n",
        "    if not os.path.exists('Final_data.csv'):  # Check if file already exists\n",
        "        data = {\n",
        "            'Name': ['Amit', 'Sneha', 'Rahul', 'Tina', 'Kiran'],\n",
        "            'Gender': ['M', 'F', 'M', 'F', 'M'],\n",
        "            'Workout_Type': ['Cardio', 'Yoga', 'Weights', 'Cardio', 'HIIT'],\n",
        "            'Session_Duration': [1.0, 0.5, 1.5, 1.2, 0.8],\n",
        "            'Calories_Burned': [300, 150, 450, 400, 500],\n",
        "            'Heart_Rate': [120, 110, 130, 125, 140]\n",
        "        }\n",
        "        df = pd.DataFrame(data)\n",
        "        df.to_csv('Final_data.csv', index=False)\n",
        "        print(\" Dummy Final_data.csv created successfully!\")\n",
        "\n",
        "create_dummy_csv()\n",
        "def average_heart_rate_by_gender(csv_path='Final_data.csv', gender_col='Gender', hr_col='Heart_Rate'):\n",
        "    \"\"\"Calculates and prints average heart rate grouped by gender.\"\"\"\n",
        "    if not os.path.exists(csv_path):\n",
        "        print(' CSV not found:', csv_path)\n",
        "        return {}\n",
        "    sums, counts = {}, {}\n",
        "    with open(csv_path, newline='') as f:\n",
        "        reader = csv.DictReader(f)\n",
        "        for row in reader:\n",
        "            g = row.get(gender_col, '').strip()\n",
        "            try:\n",
        "                hr = float(row.get(hr_col, 0))\n",
        "            except ValueError:\n",
        "                continue\n",
        "            sums[g] = sums.get(g, 0) + hr\n",
        "            counts[g] = counts.get(g, 0) + 1\n",
        "    avg_hr = {g: round(sums[g] / counts[g], 2) for g in sums}\n",
        "    print(\"\\n Average Heart Rate by Gender:\")\n",
        "    for g, avg in avg_hr.items():\n",
        "        print(f\"{g}: {avg} bpm\")\n",
        "    return avg_hr\n",
        "\n",
        "average_heart_rate_by_gender()"
      ],
      "metadata": {
        "colab": {
          "base_uri": "https://localhost:8080/"
        },
        "id": "HpGlC76XBESo",
        "outputId": "e2c586d8-b0ef-4b04-d0b6-a9cfc6b10870"
      },
      "execution_count": 28,
      "outputs": [
        {
          "output_type": "stream",
          "name": "stdout",
          "text": [
            "\n",
            " Average Heart Rate by Gender:\n",
            "M: 130.0 bpm\n",
            "F: 117.5 bpm\n"
          ]
        },
        {
          "output_type": "execute_result",
          "data": {
            "text/plain": [
              "{'M': 130.0, 'F': 117.5}"
            ]
          },
          "metadata": {},
          "execution_count": 28
        }
      ]
    },
    {
      "cell_type": "markdown",
      "source": [
        "\n",
        "Q23. Write a function to visualize Calories_Burned vs Session_Duration for each Workout_Type using\n",
        "Matplotlib."
      ],
      "metadata": {
        "id": "R9A5Dk6wBMf6"
      }
    },
    {
      "cell_type": "code",
      "source": [
        "# ===== Q23: visualize_calories_vs_duration =====\n",
        "## Q23: visualize_calories_vs_duration(csv_path, ...) creates scatter plot grouped by Workout_Type\n",
        "import csv       # Used to read and write CSV files\n",
        "import os        # Used to check if file exists\n",
        "import numpy as np   # For numerical calculations like correlation\n",
        "import matplotlib.pyplot as plt  # For data visualization (plots)\n",
        "from collections import defaultdict  # For grouping data\n",
        "import pandas as pd  # For easily creating dummy CSV data\n",
        "\n",
        "\n",
        "# STEP 1 — Create a Dummy CSV file automatically if not found\n",
        "\n",
        "def create_dummy_csv():\n",
        "    \"\"\"Creates a dummy dataset named Final_data.csv if it doesn't exist.\"\"\"\n",
        "    if not os.path.exists('Final_data.csv'):  # Check if file already exists\n",
        "        data = {\n",
        "            'Name': ['Amit', 'Sneha', 'Rahul', 'Tina', 'Kiran'],\n",
        "            'Gender': ['M', 'F', 'M', 'F', 'M'],\n",
        "            'Workout_Type': ['Cardio', 'Yoga', 'Weights', 'Cardio', 'HIIT'],\n",
        "            'Session_Duration': [1.0, 0.5, 1.5, 1.2, 0.8],\n",
        "            'Calories_Burned': [300, 150, 450, 400, 500],\n",
        "            'Heart_Rate': [120, 110, 130, 125, 140]\n",
        "        }\n",
        "        df = pd.DataFrame(data)\n",
        "        df.to_csv('Final_data.csv', index=False)\n",
        "        print(\" Dummy Final_data.csv created successfully!\")\n",
        "\n",
        "create_dummy_csv()\n",
        "def visualize_calories_vs_duration(csv_path='Final_data.csv',\n",
        "                                   type_col='Workout_Type',\n",
        "                                   duration_col='Session_Duration',\n",
        "                                   calories_col='Calories_Burned'):\n",
        "    \"\"\"Creates a scatter plot showing Calories vs Duration by Workout Type.\"\"\"\n",
        "    if not os.path.exists(csv_path):\n",
        "        print('❌ CSV file not found:', csv_path)\n",
        "        return\n",
        "    data = defaultdict(lambda: ([], []))\n",
        "    with open(csv_path, newline='') as f:\n",
        "        reader = csv.DictReader(f)\n",
        "        for row in reader:\n",
        "            t = row.get(type_col, 'Unknown')\n",
        "            try:\n",
        "                d = float(row.get(duration_col, 0))\n",
        "                c = float(row.get(calories_col, 0))\n",
        "            except ValueError:\n",
        "                continue\n",
        "            data[t][0].append(d)\n",
        "            data[t][1].append(c)\n",
        "    plt.figure(figsize=(6, 4))\n",
        "    for t, (dur, cal) in data.items():\n",
        "        plt.scatter(dur, cal, label=t, s=100)\n",
        "    plt.title('🔥 Calories Burned vs Session Duration by Workout Type')\n",
        "    plt.xlabel('Session Duration (hours)')\n",
        "    plt.ylabel('Calories Burned')\n",
        "    plt.legend()\n",
        "    plt.grid(True)\n",
        "    plt.show()\n",
        "\n",
        "visualize_calories_vs_duration()\n",
        "\n"
      ],
      "metadata": {
        "colab": {
          "base_uri": "https://localhost:8080/",
          "height": 465
        },
        "id": "rbTG7uswBQFB",
        "outputId": "4284ed49-75d4-4a30-98d2-5c892cf6b49d"
      },
      "execution_count": 29,
      "outputs": [
        {
          "output_type": "stream",
          "name": "stderr",
          "text": [
            "/usr/local/lib/python3.12/dist-packages/IPython/core/pylabtools.py:151: UserWarning: Glyph 128293 (\\N{FIRE}) missing from font(s) DejaVu Sans.\n",
            "  fig.canvas.print_figure(bytes_io, **kw)\n"
          ]
        },
        {
          "output_type": "display_data",
          "data": {
            "text/plain": [
              "<Figure size 600x400 with 1 Axes>"
            ],
            "image/png": "[encoded data removed]"
          },
          "metadata": {}
        }
      ]
    },
    {
      "cell_type": "markdown",
      "source": [
        "\n",
        "Q24. Write a function to compute correlation between any two numeric columns (column names taken\n",
        "from user input)."
      ],
      "metadata": {
        "id": "eFCIn615BWrK"
      }
    },
    {
      "cell_type": "code",
      "source": [
        "# ===== Q24: compute_correlation =====\n",
        "## Q24: compute_correlation(csv_path, col_x, col_y) returns Pearson correlation\n",
        "import csv       # Used to read and write CSV files\n",
        "import os        # Used to check if file exists\n",
        "import numpy as np   # For numerical calculations like correlation\n",
        "import matplotlib.pyplot as plt  # For data visualization (plots)\n",
        "from collections import defaultdict  # For grouping data\n",
        "import pandas as pd  # For easily creating dummy CSV data\n",
        "\n",
        "\n",
        "# STEP 1 — Create a Dummy CSV file automatically if not found\n",
        "\n",
        "def create_dummy_csv():\n",
        "    \"\"\"Creates a dummy dataset named Final_data.csv if it doesn't exist.\"\"\"\n",
        "    if not os.path.exists('Final_data.csv'):  # Check if file already exists\n",
        "        data = {\n",
        "            'Name': ['Amit', 'Sneha', 'Rahul', 'Tina', 'Kiran'],\n",
        "            'Gender': ['M', 'F', 'M', 'F', 'M'],\n",
        "            'Workout_Type': ['Cardio', 'Yoga', 'Weights', 'Cardio', 'HIIT'],\n",
        "            'Session_Duration': [1.0, 0.5, 1.5, 1.2, 0.8],\n",
        "            'Calories_Burned': [300, 150, 450, 400, 500],\n",
        "            'Heart_Rate': [120, 110, 130, 125, 140]\n",
        "        }\n",
        "        df = pd.DataFrame(data)\n",
        "        df.to_csv('Final_data.csv', index=False)\n",
        "        print(\" Dummy Final_data.csv created successfully!\")\n",
        "\n",
        "create_dummy_csv()\n",
        "def compute_correlation(csv_path='Final_data.csv', col_x='Session_Duration', col_y='Calories_Burned'):\n",
        "    \"\"\"Computes Pearson correlation between two numeric columns.\"\"\"\n",
        "    if not os.path.exists(csv_path):\n",
        "        print('❌ CSV file not found:', csv_path)\n",
        "        return float('nan')\n",
        "    xs, ys = [], []\n",
        "    with open(csv_path, newline='') as f:\n",
        "        reader = csv.DictReader(f)\n",
        "        for row in reader:\n",
        "            try:\n",
        "                xs.append(float(row.get(col_x, 0)))\n",
        "                ys.append(float(row.get(col_y, 0)))\n",
        "            except ValueError:\n",
        "                continue\n",
        "    if len(xs) < 2:\n",
        "        print('⚠️ Not enough data for correlation.')\n",
        "        return float('nan')\n",
        "    correlation = float(np.corrcoef(xs, ys)[0, 1])\n",
        "    print(f\"\\n📈 Correlation between {col_x} and {col_y}: {correlation:.3f}\")\n",
        "    return correlation\n",
        "\n",
        "compute_correlation()\n"
      ],
      "metadata": {
        "colab": {
          "base_uri": "https://localhost:8080/"
        },
        "id": "USoOmNnYBe8B",
        "outputId": "a83746da-7467-4600-a77f-e422ae55d2bf"
      },
      "execution_count": 30,
      "outputs": [
        {
          "output_type": "stream",
          "name": "stdout",
          "text": [
            "\n",
            "📈 Correlation between Session_Duration and Calories_Burned: 0.615\n"
          ]
        },
        {
          "output_type": "execute_result",
          "data": {
            "text/plain": [
              "0.6151541991724646"
            ]
          },
          "metadata": {},
          "execution_count": 30
        }
      ]
    },
    {
      "cell_type": "markdown",
      "source": [
        "\n",
        "Q25. Write a function that creates and saves any Matplotlib plot as a PNG file automatically."
      ],
      "metadata": {
        "id": "jdwoACelBfwV"
      }
    },
    {
      "cell_type": "code",
      "source": [
        "# ===== Q25: save_plot_as_png =====\n",
        "## Q25: save_plot_as_png(filename) creates a simple plot and saves to PNG file\n",
        "def save_plot_as_png(filename='plot.png'):\n",
        "    # Create figure and plot some example data\n",
        "    plt.figure()  # new figure\n",
        "    plt.plot([1,2,3], [100,200,150], marker='o')  # plot 3 points\n",
        "    plt.title('Auto-saved Plot Example')  # title\n",
        "    plt.xlabel('X-axis')  # x label\n",
        "    plt.ylabel('Y-axis')  # y label\n",
        "    plt.grid(True)  # show grid\n",
        "    # Save figure to file with tight layout to avoid clipping\n",
        "    plt.savefig(filename, bbox_inches='tight')\n",
        "    print('Saved plot as', filename)  # confirm saved file\n",
        "\n",
        "# Example call that will save plot.png in the current working directory\n",
        "save_plot_as_png('assignment_plot.png')\n"
      ],
      "metadata": {
        "colab": {
          "base_uri": "https://localhost:8080/",
          "height": 489
        },
        "id": "YlghgNrwBjbT",
        "outputId": "6e29faca-7127-489b-855c-2b6c60cb9261"
      },
      "execution_count": 26,
      "outputs": [
        {
          "output_type": "stream",
          "name": "stdout",
          "text": [
            "Saved plot as assignment_plot.png\n"
          ]
        },
        {
          "output_type": "display_data",
          "data": {
            "text/plain": [
              "<Figure size 640x480 with 1 Axes>"
            ],
            "image/png": "[encoded data removed]"
          },
          "metadata": {}
        }
      ]
    },
    {
      "cell_type": "markdown",
      "source": [
        "                                                               END"
      ],
      "metadata": {
        "id": "zAwBQviRBpEz"
      }
    }
  ]
}